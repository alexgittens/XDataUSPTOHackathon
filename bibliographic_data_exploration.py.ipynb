{
 "cells": [
  {
   "cell_type": "code",
   "execution_count": 111,
   "metadata": {
    "collapsed": false
   },
   "outputs": [],
   "source": [
    "import lxml.etree as etree"
   ]
  },
  {
   "cell_type": "code",
   "execution_count": 119,
   "metadata": {
    "collapsed": false
   },
   "outputs": [],
   "source": []
  },
  {
   "cell_type": "code",
   "execution_count": 142,
   "metadata": {
    "collapsed": false
   },
   "outputs": [
    {
     "name": "stdout",
     "output_type": "stream",
     "text": [
      "['additional-info', 'address', 'addressbook', 'agent', 'agents', 'applicant', 'applicants', 'application-reference', 'assignee', 'assignees', 'category', 'citation', 'city', 'classification-locarno', 'classification-national', 'country', 'date', 'department', 'doc-number', 'document-id', 'edition', 'examiners', 'field-of-search', 'figures', 'first-name', 'invention-title', 'kind', 'last-name', 'length-of-grant', 'main-classification', 'name', 'nationality', 'number-of-claims', 'number-of-drawing-sheets', 'number-of-figures', 'orgname', 'parties', 'patcit', 'primary-examiner', 'priority-claim', 'priority-claims', 'publication-reference', 'references-cited', 'residence', 'role', 'us-application-series-code', 'us-bibliographic-data-grant', 'us-exemplary-claim', 'us-term-of-grant']\n",
      "<us-patent-grant lang=\"EN\" dtd-version=\"v40 2004-12-02\" file=\"USD0513333-20051227.XML\" status=\"PRODUCTION\" id=\"us-patent-grant\" country=\"US\" date-produced=\"20051212\" date-publ=\"20051227\">\n",
      "  <us-bibliographic-data-grant>\n",
      "    <publication-reference>\n",
      "      <document-id>\n",
      "        <country>US</country>\n",
      "        <doc-number>D0513333</doc-number>\n",
      "        <kind>S1</kind>\n",
      "        <date>20051227</date>\n",
      "      </document-id>\n",
      "    </publication-reference>\n",
      "    <application-reference appl-type=\"design\">\n",
      "      <document-id>\n",
      "        <country>US</country>\n",
      "        <doc-number>29199678</doc-number>\n",
      "        <date>20040218</date>\n",
      "      </document-id>\n",
      "    </application-reference>\n",
      "    <us-application-series-code>29</us-application-series-code>\n",
      "    <priority-claims>\n",
      "      <priority-claim sequence=\"01\" kind=\"national\">\n",
      "        <country>JP</country>\n",
      "        <doc-number>2003-024435</doc-number>\n",
      "        <date>20030825</date>\n",
      "      </priority-claim>\n",
      "    </priority-claims>\n",
      "    <us-term-of-grant>\n",
      "      <length-of-grant>14</length-of-grant>\n",
      "    </us-term-of-grant>\n",
      "    <classification-locarno>\n",
      "      <edition>8</edition>\n",
      "      <main-classification>2606</main-classification>\n",
      "    </classification-locarno>\n",
      "    <classification-national>\n",
      "      <country>US</country>\n",
      "      <main-classification>D26 28</main-classification>\n",
      "    </classification-national>\n",
      "    <invention-title id=\"d0e71\">Headlamp for a bicycle</invention-title>\n",
      "    <references-cited>\n",
      "      <citation>\n",
      "        <patcit num=\"00001\">\n",
      "          <document-id>\n",
      "            <country>US</country>\n",
      "            <doc-number>D497444</doc-number>\n",
      "            <kind>S</kind>\n",
      "            <name>Okuda et al.</name>\n",
      "            <date>20041000</date>\n",
      "          </document-id>\n",
      "        </patcit>\n",
      "        <category>cited by examiner</category>\n",
      "        <classification-national>\n",
      "          <country>US</country>\n",
      "          <main-classification>D26 28</main-classification>\n",
      "        </classification-national>\n",
      "      </citation>\n",
      "      <citation>\n",
      "        <patcit num=\"00002\">\n",
      "          <document-id>\n",
      "            <country>US</country>\n",
      "            <doc-number>D498550</doc-number>\n",
      "            <kind>S</kind>\n",
      "            <name>Chen</name>\n",
      "            <date>20041100</date>\n",
      "          </document-id>\n",
      "        </patcit>\n",
      "        <category>cited by examiner</category>\n",
      "        <classification-national>\n",
      "          <country>US</country>\n",
      "          <main-classification>D26 28</main-classification>\n",
      "        </classification-national>\n",
      "      </citation>\n",
      "    </references-cited>\n",
      "    <number-of-claims>1</number-of-claims>\n",
      "    <us-exemplary-claim>1</us-exemplary-claim>\n",
      "    <field-of-search>\n",
      "      <classification-national>\n",
      "        <country>US</country>\n",
      "        <main-classification>D26 28- 36</main-classification>\n",
      "        <additional-info>unstructured</additional-info>\n",
      "      </classification-national>\n",
      "      <classification-national>\n",
      "        <country>US</country>\n",
      "        <main-classification>362458-468</main-classification>\n",
      "        <additional-info>unstructured</additional-info>\n",
      "      </classification-national>\n",
      "      <classification-national>\n",
      "        <country>US</country>\n",
      "        <main-classification>362475-478</main-classification>\n",
      "        <additional-info>unstructured</additional-info>\n",
      "      </classification-national>\n",
      "      <classification-national>\n",
      "        <country>US</country>\n",
      "        <main-classification>362485-487</main-classification>\n",
      "        <additional-info>unstructured</additional-info>\n",
      "      </classification-national>\n",
      "    </field-of-search>\n",
      "    <figures>\n",
      "      <number-of-drawing-sheets>3</number-of-drawing-sheets>\n",
      "      <number-of-figures>8</number-of-figures>\n",
      "    </figures>\n",
      "    <parties>\n",
      "      <applicants>\n",
      "        <applicant sequence=\"001\" app-type=\"applicant-inventor\" designation=\"us-only\">\n",
      "          <addressbook>\n",
      "            <last-name>Okuda</last-name>\n",
      "            <first-name>Yoji</first-name>\n",
      "            <address>\n",
      "              <city>Tondabayashi</city>\n",
      "              <country>JP</country>\n",
      "            </address>\n",
      "          </addressbook>\n",
      "          <nationality>\n",
      "            <country>JP</country>\n",
      "          </nationality>\n",
      "          <residence>\n",
      "            <country>JP</country>\n",
      "          </residence>\n",
      "        </applicant>\n",
      "        <applicant sequence=\"002\" app-type=\"applicant-inventor\" designation=\"us-only\">\n",
      "          <addressbook>\n",
      "            <last-name>Nagano</last-name>\n",
      "            <first-name>Toshiyuki</first-name>\n",
      "            <address>\n",
      "              <city>Takarazuka</city>\n",
      "              <country>JP</country>\n",
      "            </address>\n",
      "          </addressbook>\n",
      "          <nationality>\n",
      "            <country>JP</country>\n",
      "          </nationality>\n",
      "          <residence>\n",
      "            <country>JP</country>\n",
      "          </residence>\n",
      "        </applicant>\n",
      "      </applicants>\n",
      "      <agents>\n",
      "        <agent sequence=\"01\" rep-type=\"attorney\">\n",
      "          <addressbook>\n",
      "            <orgname>Olson &amp; Hierl, Ltd.</orgname>\n",
      "            <address>\n",
      "              <country>unknown</country>\n",
      "            </address>\n",
      "          </addressbook>\n",
      "        </agent>\n",
      "      </agents>\n",
      "    </parties>\n",
      "    <assignees>\n",
      "      <assignee>\n",
      "        <addressbook>\n",
      "          <orgname>Cateye Co., Ltd.</orgname>\n",
      "          <role>03</role>\n",
      "          <address>\n",
      "            <city>Osaka</city>\n",
      "            <country>JP</country>\n",
      "          </address>\n",
      "        </addressbook>\n",
      "      </assignee>\n",
      "    </assignees>\n",
      "    <examiners>\n",
      "      <primary-examiner>\n",
      "        <last-name>Jackson</last-name>\n",
      "        <first-name>Marcus A.</first-name>\n",
      "        <department>2911</department>\n",
      "      </primary-examiner>\n",
      "    </examiners>\n",
      "  </us-bibliographic-data-grant>\n",
      "</us-patent-grant>\n",
      "\n"
     ]
    }
   ],
   "source": [
    "parser = etree.XMLParser(remove_blank_text=True)\n",
    "bibliographicFile = etree.parse(\"uspto/ipgb20051227-457.xml\", parser)\n",
    "\n",
    "root = bibliographicFile.getroot()\n",
    "document = root.getchildren()[0]\n",
    "fields = []\n",
    "for item in document.iter():\n",
    "    fields.append(item.tag)\n",
    "fields = list(set(fields))\n",
    "fields.sort() \n",
    "\n",
    "print(fields)\n",
    "print(etree.tostring(bibliographicFile.getroot(), pretty_print=True).decode('UTF-8'))"
   ]
  },
  {
   "cell_type": "code",
   "execution_count": 138,
   "metadata": {
    "collapsed": false
   },
   "outputs": [],
   "source": [
    "date = root.find(\"us-bibliographic-data-grant/publication-reference/document-id/date\").text\n",
    "docNumber = root.find(\"us-bibliographic-data-grant/publication-reference/document-id/doc-number\").text\n",
    "kind = root.find(\"us-bibliographic-data-grant/publication-reference/document-id/kind\").text\n",
    "applicationType = root.find(\"us-bibliographic-data-grant/application-reference\").attrib.get(\"appl-type\")\n",
    "inventionTitle = root.find(\"us-bibliographic-data-grant/invention-title\").text"
   ]
  },
  {
   "cell_type": "code",
   "execution_count": 141,
   "metadata": {
    "collapsed": false
   },
   "outputs": [
    {
     "data": {
      "text/plain": [
       "['20051227', 'D0513333', 'S1', 'design', 'Headlamp for a bicycle']"
      ]
     },
     "execution_count": 141,
     "metadata": {},
     "output_type": "execute_result"
    }
   ],
   "source": [
    "[date, docNumber, kind, applicationType, inventionTitle]"
   ]
  },
  {
   "cell_type": "code",
   "execution_count": null,
   "metadata": {
    "collapsed": true
   },
   "outputs": [],
   "source": []
  }
 ],
 "metadata": {
  "anaconda-cloud": {},
  "kernelspec": {
   "display_name": "Python [Root]",
   "language": "python",
   "name": "Python [Root]"
  },
  "language_info": {
   "codemirror_mode": {
    "name": "ipython",
    "version": 3
   },
   "file_extension": ".py",
   "mimetype": "text/x-python",
   "name": "python",
   "nbconvert_exporter": "python",
   "pygments_lexer": "ipython3",
   "version": "3.5.1"
  }
 },
 "nbformat": 4,
 "nbformat_minor": 0
}
