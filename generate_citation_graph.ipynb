{
 "cells": [
  {
   "cell_type": "code",
   "execution_count": 1,
   "metadata": {
    "collapsed": false
   },
   "outputs": [],
   "source": [
    "import re\n",
    "\n",
    "import pandas as pd\n",
    "import scipy.sparse as sparse\n",
    "import numpy as np\n",
    "\n",
    "import scipy.sparse as sparse\n",
    "import cPickle as pickle"
   ]
  },
  {
   "cell_type": "markdown",
   "metadata": {},
   "source": [
    "## Interacting with the dataframe"
   ]
  },
  {
   "cell_type": "code",
   "execution_count": null,
   "metadata": {
    "collapsed": true
   },
   "outputs": [],
   "source": []
  },
  {
   "cell_type": "code",
   "execution_count": 9,
   "metadata": {
    "collapsed": false
   },
   "outputs": [],
   "source": [
    "# modify this accordingly to load the full dataframe\n",
    "# e.g.\n",
    "# df_fpath = \"/vagrant/xdata/uspto_grant_data_icpr_section_H.h5\"\n",
    "# df = pd.read_hdf(df_fpath)\n",
    "\n",
    "pickle_fpath = \"uspto_grants_all_H_sections.hdf5\"\n",
    "full_df  = pd.read_hdf(pickle_fpath)\n",
    "full_df.reset_index(inplace=True,drop=True)"
   ]
  },
  {
   "cell_type": "code",
   "execution_count": 29,
   "metadata": {
    "collapsed": false
   },
   "outputs": [],
   "source": [
    "#selector = [True if re.match(\"^H04\", label) else False for label in full_df['ipcrType'].tolist()]\n",
    "#df = full_df[selector]\n",
    "#df.reset_index(inplace=True,drop=True)"
   ]
  },
  {
   "cell_type": "markdown",
   "metadata": {},
   "source": [
    "### Building the citation graph"
   ]
  },
  {
   "cell_type": "code",
   "execution_count": 10,
   "metadata": {
    "collapsed": true
   },
   "outputs": [],
   "source": [
    "def citation_adjacency_matrix(df):\n",
    "    nnz = len(df)\n",
    "\n",
    "    nodes = []\n",
    "    for i in range(nnz):\n",
    "        nodes.append(df.ix[i]['publishedPatentDocNumber'])\n",
    "    nodeset = set(nodes)\n",
    "\n",
    "    node2idx = {}\n",
    "    for idx, node in enumerate(nodes): \n",
    "        node2idx[node] = idx\n",
    "\n",
    "    all_nodes = []\n",
    "    for i in range(nnz):\n",
    "        source = df.ix[i]['publishedPatentDocNumber']\n",
    "        targets = list(set(df.ix[i]['applicantCitations']).union(set(df.ix[i]['examinerCitations'])))\n",
    "        all_nodes.append(source)\n",
    "        all_nodes.extend(targets)\n",
    "    all_nodeset = set(all_nodes)\n",
    "    all_nodes = list(all_nodeset)\n",
    "\n",
    "    all_node2idx = {}\n",
    "    for idx, node in enumerate(nodes):\n",
    "        all_node2idx[node] = idx\n",
    "\n",
    "    shift = 0\n",
    "    for node in all_nodes:\n",
    "        try:\n",
    "            dummy = all_node2idx[node]\n",
    "        except:\n",
    "            all_node2idx[node] = shift + nnz\n",
    "            shift += 1\n",
    "\n",
    "    all_pairs = []\n",
    "    for i in range(nnz):\n",
    "        source = df.ix[i]['publishedPatentDocNumber']\n",
    "        source_idx = all_node2idx[source]\n",
    "        targets = list(set(df.ix[i]['applicantCitations']).union(set(df.ix[i]['examinerCitations'])))\n",
    "        for target in targets:\n",
    "            all_pairs.append([source_idx, all_node2idx[target]])   \n",
    "\n",
    "    row, col = zip(*all_pairs)\n",
    "    val = np.ones(len(row)).astype(np.float64) \n",
    "    height = max(max(row), max(col)) + 1\n",
    "    width = height\n",
    "\n",
    "    A_coo = sparse.coo_matrix((val, (row, col)), shape = (height, width))\n",
    "\n",
    "    A = sparse.csr_matrix(A_coo)\n",
    "    A = A + A.T\n",
    "\n",
    "    B = A[:nnz, :]\n",
    "\n",
    "    C = np.dot(B, B.T)\n",
    "\n",
    "    D = A[:nnz, :nnz]\n",
    "\n",
    "    link_matrix = C + D\n",
    "    return link_matrix"
   ]
  },
  {
   "cell_type": "markdown",
   "metadata": {},
   "source": [
    "### Running..."
   ]
  },
  {
   "cell_type": "code",
   "execution_count": 11,
   "metadata": {
    "collapsed": false
   },
   "outputs": [],
   "source": [
    "link_matrix = citation_adjacency_matrix(full_df)"
   ]
  }
 ],
 "metadata": {
  "anaconda-cloud": {},
  "kernelspec": {
   "display_name": "Python [conda root]",
   "language": "python",
   "name": "conda-root-py"
  },
  "language_info": {
   "codemirror_mode": {
    "name": "ipython",
    "version": 2
   },
   "file_extension": ".py",
   "mimetype": "text/x-python",
   "name": "python",
   "nbconvert_exporter": "python",
   "pygments_lexer": "ipython2",
   "version": "2.7.12"
  }
 },
 "nbformat": 4,
 "nbformat_minor": 0
}
