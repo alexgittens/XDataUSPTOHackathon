{
 "cells": [
  {
   "cell_type": "markdown",
   "metadata": {},
   "source": [
    "### Load the DataFrame"
   ]
  },
  {
   "cell_type": "code",
   "execution_count": 21,
   "metadata": {
    "collapsed": false
   },
   "outputs": [],
   "source": [
    "import pandas as pd\n",
    "import scipy.sparse as sp\n",
    "import scipy.stats as stats\n",
    "import scipy.sparse.linalg as spla\n",
    "import sklearn.cluster\n",
    "import numpy as np\n",
    "import matplotlib.pyplot as plt\n",
    "%matplotlib inline\n",
    "\n",
    "datasetfname = \"uspto_grants_all_H_sections.hdf5\"\n",
    "try:\n",
    "    df\n",
    "except NameError:\n",
    "    df = pd.read_hdf(datasetfname)\n",
    "df.reset_index(inplace=True,drop=True)"
   ]
  },
  {
   "cell_type": "markdown",
   "metadata": {},
   "source": [
    "### Produce an adjacency matrix where vertices are the patents (vertex i corresponds to row i of the dataset) and an edge indicates that vertices i and j have the relation cites or is cited by in the original dataset, or they share a cited patent that is or is not in the dataset"
   ]
  },
  {
   "cell_type": "code",
   "execution_count": 4,
   "metadata": {
    "collapsed": false
   },
   "outputs": [
    {
     "name": "stdout",
     "output_type": "stream",
     "text": [
      "Populating row 0 of 666137\n",
      "Populating row 50000 of 666137\n",
      "Populating row 100000 of 666137\n",
      "Populating row 150000 of 666137\n",
      "Populating row 200000 of 666137\n",
      "Populating row 250000 of 666137\n",
      "Populating row 300000 of 666137\n",
      "Populating row 350000 of 666137\n",
      "Populating row 400000 of 666137\n",
      "Populating row 450000 of 666137\n",
      "Populating row 500000 of 666137\n",
      "Populating row 550000 of 666137\n",
      "Populating row 600000 of 666137\n",
      "Populating row 650000 of 666137\n"
     ]
    }
   ],
   "source": [
    "patentNums = df[\"publishedPatentDocNumber\"].tolist()\n",
    "applicantCitations = df[\"applicantCitations\"].tolist()\n",
    "examinerCitations = df[\"examinerCitations\"].tolist()\n",
    "\n",
    "uniqueCitations = set([])\n",
    "for idx in xrange(len(applicantCitations)):\n",
    "    uniqueCitations.update(applicantCitations[idx]) \n",
    "for idx in xrange(len(examinerCitations)):\n",
    "    uniqueCitations.update(examinerCitations[idx])\n",
    "    \n",
    "vertexList = list(patentNums)\n",
    "vertexList.extend(uniqueCitations)\n",
    "\n",
    "docToVertexLUT = {}\n",
    "for idx in xrange(len(vertexList)):\n",
    "    docToVertexLUT[vertexList[idx]] = idx\n",
    "    \n",
    "# B = csr_matrix((data, indices, colIndexPointers)) will be a\n",
    "# patents-by-numvertices adjacency matrix stored in CSR format\n",
    "colIndexPointers = [0]*(len(patentNums)+1)\n",
    "for rowNum in xrange(len(patentNums)):\n",
    "    colIndexPointers[rowNum+1] = colIndexPointers[rowNum] + len(applicantCitations[rowNum]) + len(examinerCitations[rowNum])\n",
    "    \n",
    "indices = [0]*colIndexPointers[-1]\n",
    "for rowNum in xrange(len(patentNums)):\n",
    "    if (rowNum % 50000 == 0):\n",
    "        print('Populating row {0} of {1}'.format(rowNum, len(patentNums)))\n",
    "    citations = applicantCitations[rowNum]\n",
    "    citations.extend(examinerCitations[rowNum])\n",
    "    indices[colIndexPointers[rowNum]:colIndexPointers[rowNum+1]] = map(lambda doc: docToVertexLUT[doc], citations) \n",
    "    \n",
    "data = [1]*len(indices)\n",
    "B = sp.csr_matrix((data, indices, colIndexPointers))\n",
    "C = np.dot(B, B.T)\n",
    "C = C + C.T"
   ]
  },
  {
   "cell_type": "markdown",
   "metadata": {},
   "source": [
    "### Make C into a genuine adjacency matrix A"
   ]
  },
  {
   "cell_type": "code",
   "execution_count": null,
   "metadata": {
    "collapsed": true
   },
   "outputs": [],
   "source": [
    "(i,j,v) = sp.find(C)\n",
    "for idx in xrange(len(v)):\n",
    "    if i[idx] == j[idx]:\n",
    "        v[idx] = 0\n",
    "    else:\n",
    "        v[idx] = 1.0\n",
    "A = sp.coo_matrix((v, (i,j)), shape=C.shape, dtype='d').tocsr()"
   ]
  },
  {
   "cell_type": "markdown",
   "metadata": {},
   "source": [
    "### Fit an SBM"
   ]
  },
  {
   "cell_type": "code",
   "execution_count": 22,
   "metadata": {
    "collapsed": false
   },
   "outputs": [
    {
     "data": {
      "text/plain": [
       "<matplotlib.collections.PathCollection at 0x11cb33950>"
      ]
     },
     "execution_count": 22,
     "metadata": {},
     "output_type": "execute_result"
    },
    {
     "data": {
      "image/png": "[encoded data removed]",
      "text/plain": [
       "<matplotlib.figure.Figure at 0x124718150>"
      ]
     },
     "metadata": {},
     "output_type": "display_data"
    }
   ],
   "source": [
    "k = 10\n",
    "(U,s,V) = spla.svds(A, k)\n",
    "S = np.diagflat(np.sqrt(s))\n",
    "Xhat = np.dot(U,S)\n",
    "kmeans_obj = sklearn.cluster.KMeans(k, n_init=1, max_iter=10)\n",
    "labels = kmeans_obj.fit_predict(Xhat)\n",
    "plt.scatter(Xhat[:, 0], Xhat[:, 1], c=labels)"
   ]
  },
  {
   "cell_type": "markdown",
   "metadata": {},
   "source": [
    "### Export the entire adjacency matrix"
   ]
  },
  {
   "cell_type": "code",
   "execution_count": null,
   "metadata": {
    "collapsed": true
   },
   "outputs": [],
   "source": [
    "adjacencymatfname = \"one_hop_adjacency_all_H.txt\"\n",
    "\n",
    "def export_sparsemat(spmat, outfname):\n",
    "    (i,j,v) = sp.find(spmat)\n",
    "    with open(outfname, \"w\") as fout:\n",
    "        for idx in xrange(len(i)):\n",
    "            if (i[idx] == j[idx]):\n",
    "                continue\n",
    "            if (idx % 100000 == 0):\n",
    "                print(\"Exporting edge {0} of {1}\".format(idx+1, len(i)))\n",
    "            fout.write(\"{0} {1}\\n\".format(i[idx], j[idx]))\n",
    "export_sparsemat(C, adjacencymatfname)"
   ]
  },
  {
   "cell_type": "markdown",
   "metadata": {},
   "source": [
    "### Export positive samples"
   ]
  },
  {
   "cell_type": "code",
   "execution_count": 34,
   "metadata": {
    "collapsed": true
   },
   "outputs": [],
   "source": [
    "numpositives = 15000\n",
    "posexamplesIndices = np.random.choice(len(i), numpositives)\n",
    "iPos = i[posexamplesIndices]\n",
    "jPos = j[posexamplesIndices]\n",
    "outfname = \"positive_edges.txt\"\n",
    "with open(outfname, \"w\") as fout:\n",
    "    for idx in xrange(numpositives):\n",
    "        fout.write(\"{0} {1}\\n\".format(iPos[idx], jPos[idx]))\n"
   ]
  }
 ],
 "metadata": {
  "anaconda-cloud": {},
  "kernelspec": {
   "display_name": "Python [Root]",
   "language": "python",
   "name": "Python [Root]"
  },
  "language_info": {
   "codemirror_mode": {
    "name": "ipython",
    "version": 2
   },
   "file_extension": ".py",
   "mimetype": "text/x-python",
   "name": "python",
   "nbconvert_exporter": "python",
   "pygments_lexer": "ipython2",
   "version": "2.7.12"
  }
 },
 "nbformat": 4,
 "nbformat_minor": 0
}
