{
 "cells": [
  {
   "cell_type": "markdown",
   "metadata": {},
   "source": [
    "### Load the DataFrame, produce an adjacency matrix where vertices are the patents (vertex i corresponds to row i of the dataset) and an edge indicates that vertices i and j have the relation cites or is cited by in the original dataset, or they share a cited patent that is or is not in the dataset"
   ]
  },
  {
   "cell_type": "code",
   "execution_count": null,
   "metadata": {
    "collapsed": false
   },
   "outputs": [],
   "source": [
    "import pandas as pd\n",
    "import scipy.sparse as sp\n",
    "import scipy.stats\n",
    "import numpy as np\n",
    "import matplotlib.pyplot as plt\n",
    "%matplotlib inline\n",
    "\n",
    "datasetfname = \"uspto_grants_all_H_sections.hdf5\"\n",
    "try:\n",
    "    df\n",
    "except NameError:\n",
    "    df = pd.read_hdf(datasetfname)\n",
    "df.reset_index(inplace=True,drop=True)"
   ]
  },
  {
   "cell_type": "code",
   "execution_count": null,
   "metadata": {
    "collapsed": false
   },
   "outputs": [],
   "source": [
    "import scipy.sparse as sp\n",
    "\n",
    "patentNums = df[\"publishedPatentDocNumber\"].tolist()\n",
    "applicantCitations = df[\"applicantCitations\"].tolist()\n",
    "examinerCitations = df[\"examinerCitations\"].tolist()\n",
    "\n",
    "uniqueCitations = set([])\n",
    "for idx in xrange(len(applicantCitations)):\n",
    "    uniqueCitations.update(applicantCitations[idx]) \n",
    "for idx in xrange(len(examinerCitations)):\n",
    "    uniqueCitations.update(examinerCitations[idx])\n",
    "    \n",
    "vertexList = list(patentNums)\n",
    "vertexList.extend(uniqueCitations)\n",
    "\n",
    "docToVertexLUT = {}\n",
    "for idx in xrange(len(vertexList)):\n",
    "    docToVertexLUT[vertexList[idx]] = idx\n",
    "    \n",
    "# B = csr_matrix((data, indices, colIndexPointers)) will be a\n",
    "# patents-by-numvertices adjacency matrix stored in CSR format\n",
    "colIndexPointers = [0]*(len(patentNums)+1)\n",
    "for rowNum in xrange(len(patentNums)):\n",
    "    colIndexPointers[rowNum+1] = colIndexPointers[rowNum] + len(applicantCitations[rowNum]) + len(examinerCitations[rowNum])\n",
    "    \n",
    "indices = [0]*colIndexPointers[-1]\n",
    "for rowNum in xrange(len(patentNums)):\n",
    "    if (rowNum % 1000 == 0):\n",
    "        print('Populating row {0} of {1}'.format(rowNum, len(patentNums)))\n",
    "    citations = applicantCitations[rowNum]\n",
    "    citations.extend(examinerCitations[rowNum])\n",
    "    indices[colIndexPointers[rowNum]:colIndexPointers[rowNum+1]] = map(lambda doc: docToVertexLUT[doc], citations) \n",
    "    \n",
    "data = [1]*len(indices)\n",
    "B = sp.csr_matrix((data, indices, colIndexPointers))\n",
    "C = np.dot(B, B.T)\n",
    "C = C + C.T"
   ]
  },
  {
   "cell_type": "code",
   "execution_count": null,
   "metadata": {
    "collapsed": true
   },
   "outputs": [],
   "source": [
    "adjacencymatfname = \"one_hop_adjacency_all_H.txt\"\n",
    "\n",
    "def export_sparsemat(spmat, outfname):\n",
    "    (i,j,v) = sp.find(spmat)\n",
    "    with open(outfname, \"w\") as fout:\n",
    "        for idx in xrange(len(i)):\n",
    "            if (i[idx] == j[idx]):\n",
    "                continue\n",
    "            if (idx % 100000 == 0):\n",
    "                print(\"Exporting edge {0} of {1}\".format(idx+1, len(i)))\n",
    "            fout.write(\"{0} {1}\\n\".format(i[idx], j[idx]))\n",
    "export_sparsemat(C, adjacencymatfname)"
   ]
  }
 ],
 "metadata": {
  "anaconda-cloud": {},
  "kernelspec": {
   "display_name": "Python [Root]",
   "language": "python",
   "name": "Python [Root]"
  },
  "language_info": {
   "codemirror_mode": {
    "name": "ipython",
    "version": 2
   },
   "file_extension": ".py",
   "mimetype": "text/x-python",
   "name": "python",
   "nbconvert_exporter": "python",
   "pygments_lexer": "ipython2",
   "version": "2.7.12"
  }
 },
 "nbformat": 4,
 "nbformat_minor": 0
}
